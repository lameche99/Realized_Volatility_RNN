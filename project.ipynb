{
 "cells": [
  {
   "cell_type": "code",
   "execution_count": 1,
   "metadata": {},
   "outputs": [
    {
     "name": "stderr",
     "output_type": "stream",
     "text": [
      "2023-04-12 01:04:15.860922: I tensorflow/core/platform/cpu_feature_guard.cc:182] This TensorFlow binary is optimized to use available CPU instructions in performance-critical operations.\n",
      "To enable the following instructions: AVX2 FMA, in other operations, rebuild TensorFlow with the appropriate compiler flags.\n"
     ]
    }
   ],
   "source": [
    "import pandas as pd\n",
    "import numpy as np\n",
    "import matplotlib.pyplot as plt\n",
    "import plotly.express as px\n",
    "from sklearn.preprocessing import MinMaxScaler\n",
    "from sklearn.metrics import mean_squared_error\n",
    "from models import get_XY, RNN"
   ]
  },
  {
   "cell_type": "code",
   "execution_count": 2,
   "metadata": {},
   "outputs": [],
   "source": [
    "df = pd.read_csv('./data/final.csv')\n",
    "df['Month'] = pd.to_datetime(df['Month'], format=\"%Y%m\")\n",
    "df.set_index('Month', inplace=True)"
   ]
  },
  {
   "cell_type": "code",
   "execution_count": 3,
   "metadata": {},
   "outputs": [
    {
     "data": {
      "text/html": [
       "<div>\n",
       "<style scoped>\n",
       "    .dataframe tbody tr th:only-of-type {\n",
       "        vertical-align: middle;\n",
       "    }\n",
       "\n",
       "    .dataframe tbody tr th {\n",
       "        vertical-align: top;\n",
       "    }\n",
       "\n",
       "    .dataframe thead th {\n",
       "        text-align: right;\n",
       "    }\n",
       "</style>\n",
       "<table border=\"1\" class=\"dataframe\">\n",
       "  <thead>\n",
       "    <tr style=\"text-align: right;\">\n",
       "      <th></th>\n",
       "      <th>DP</th>\n",
       "      <th>EP</th>\n",
       "      <th>Mkt-RF</th>\n",
       "      <th>SMB</th>\n",
       "      <th>HML</th>\n",
       "      <th>STR</th>\n",
       "      <th>TB</th>\n",
       "      <th>TS</th>\n",
       "      <th>INF</th>\n",
       "      <th>IP</th>\n",
       "      <th>RV</th>\n",
       "    </tr>\n",
       "    <tr>\n",
       "      <th>Month</th>\n",
       "      <th></th>\n",
       "      <th></th>\n",
       "      <th></th>\n",
       "      <th></th>\n",
       "      <th></th>\n",
       "      <th></th>\n",
       "      <th></th>\n",
       "      <th></th>\n",
       "      <th></th>\n",
       "      <th></th>\n",
       "      <th></th>\n",
       "    </tr>\n",
       "  </thead>\n",
       "  <tbody>\n",
       "    <tr>\n",
       "      <th>1964-07-01</th>\n",
       "      <td>0.035045</td>\n",
       "      <td>0.061789</td>\n",
       "      <td>1.74</td>\n",
       "      <td>0.50</td>\n",
       "      <td>0.75</td>\n",
       "      <td>1.82</td>\n",
       "      <td>3.46</td>\n",
       "      <td>0.73</td>\n",
       "      <td>1.075269</td>\n",
       "      <td>0.657251</td>\n",
       "      <td>-3.880622</td>\n",
       "    </tr>\n",
       "    <tr>\n",
       "      <th>1964-08-01</th>\n",
       "      <td>0.035045</td>\n",
       "      <td>0.061789</td>\n",
       "      <td>-1.44</td>\n",
       "      <td>0.41</td>\n",
       "      <td>0.08</td>\n",
       "      <td>-1.11</td>\n",
       "      <td>3.50</td>\n",
       "      <td>0.71</td>\n",
       "      <td>0.975610</td>\n",
       "      <td>0.652960</td>\n",
       "      <td>-4.338397</td>\n",
       "    </tr>\n",
       "    <tr>\n",
       "      <th>1964-09-01</th>\n",
       "      <td>0.035045</td>\n",
       "      <td>0.061789</td>\n",
       "      <td>2.69</td>\n",
       "      <td>-0.34</td>\n",
       "      <td>1.70</td>\n",
       "      <td>1.25</td>\n",
       "      <td>3.53</td>\n",
       "      <td>0.65</td>\n",
       "      <td>1.171875</td>\n",
       "      <td>0.370552</td>\n",
       "      <td>-4.292086</td>\n",
       "    </tr>\n",
       "    <tr>\n",
       "      <th>1964-10-01</th>\n",
       "      <td>0.035045</td>\n",
       "      <td>0.061789</td>\n",
       "      <td>0.59</td>\n",
       "      <td>0.87</td>\n",
       "      <td>1.17</td>\n",
       "      <td>1.11</td>\n",
       "      <td>3.57</td>\n",
       "      <td>0.59</td>\n",
       "      <td>1.203252</td>\n",
       "      <td>-1.385040</td>\n",
       "      <td>-4.227420</td>\n",
       "    </tr>\n",
       "    <tr>\n",
       "      <th>1964-11-01</th>\n",
       "      <td>0.035045</td>\n",
       "      <td>0.061789</td>\n",
       "      <td>0.00</td>\n",
       "      <td>-0.15</td>\n",
       "      <td>-1.96</td>\n",
       "      <td>-0.68</td>\n",
       "      <td>3.64</td>\n",
       "      <td>0.56</td>\n",
       "      <td>1.397011</td>\n",
       "      <td>3.090023</td>\n",
       "      <td>-3.977059</td>\n",
       "    </tr>\n",
       "  </tbody>\n",
       "</table>\n",
       "</div>"
      ],
      "text/plain": [
       "                  DP        EP  Mkt-RF   SMB   HML   STR    TB    TS  \\\n",
       "Month                                                                  \n",
       "1964-07-01  0.035045  0.061789    1.74  0.50  0.75  1.82  3.46  0.73   \n",
       "1964-08-01  0.035045  0.061789   -1.44  0.41  0.08 -1.11  3.50  0.71   \n",
       "1964-09-01  0.035045  0.061789    2.69 -0.34  1.70  1.25  3.53  0.65   \n",
       "1964-10-01  0.035045  0.061789    0.59  0.87  1.17  1.11  3.57  0.59   \n",
       "1964-11-01  0.035045  0.061789    0.00 -0.15 -1.96 -0.68  3.64  0.56   \n",
       "\n",
       "                 INF        IP        RV  \n",
       "Month                                     \n",
       "1964-07-01  1.075269  0.657251 -3.880622  \n",
       "1964-08-01  0.975610  0.652960 -4.338397  \n",
       "1964-09-01  1.171875  0.370552 -4.292086  \n",
       "1964-10-01  1.203252 -1.385040 -4.227420  \n",
       "1964-11-01  1.397011  3.090023 -3.977059  "
      ]
     },
     "execution_count": 3,
     "metadata": {},
     "output_type": "execute_result"
    }
   ],
   "source": [
    "df.head()"
   ]
  },
  {
   "cell_type": "code",
   "execution_count": 4,
   "metadata": {},
   "outputs": [],
   "source": [
    "# split training and testing data\n",
    "split = int(df.shape[0] * 0.2)\n",
    "train = df.iloc[:(df.shape[0] - split), :].copy()\n",
    "test = df.iloc[(df.shape[0] - split):, :].copy()\n",
    "# input variables\n",
    "feature_labels = df.columns[:-1].to_list()\n",
    "target = [df.columns[-1]]\n",
    "time_step = 12\n",
    "num_feats = len(feature_labels)\n",
    "scaler = MinMaxScaler(feature_range=(0,1))\n",
    "units = 5"
   ]
  },
  {
   "cell_type": "code",
   "execution_count": 5,
   "metadata": {},
   "outputs": [],
   "source": [
    "# get scaled train arrays for RNN\n",
    "# x - (batch_size, time_steps, features)\n",
    "# y - (batch_size, 1)\n",
    "x_train, y_train = get_XY(\n",
    "    data=train,\n",
    "    xlabs=feature_labels,\n",
    "    ylab=target,\n",
    "    scaler=scaler,\n",
    "    time_steps=time_step\n",
    ")\n",
    "# get scaled test arrays for RNN\n",
    "# x - (batch_size, time_steps, features)\n",
    "# y - (batch_size, 1)\n",
    "x_test, y_test = get_XY(\n",
    "    data=test,\n",
    "    xlabs=feature_labels,\n",
    "    ylab=target,\n",
    "    scaler=scaler,\n",
    "    time_steps=time_step\n",
    ")"
   ]
  },
  {
   "cell_type": "code",
   "execution_count": 6,
   "metadata": {},
   "outputs": [
    {
     "name": "stdout",
     "output_type": "stream",
     "text": [
      "Scaled x_train shape: (549, 12, 10)\n",
      "Scaled y_train shape: (549, 1)\n",
      "Scaled x_test shape: (128, 12, 10)\n",
      "Scaled y_test shape: (128, 1)\n"
     ]
    }
   ],
   "source": [
    "print(f'Scaled x_train shape: {x_train.shape}')\n",
    "print(f'Scaled y_train shape: {y_train.shape}')\n",
    "print(f'Scaled x_test shape: {x_test.shape}')\n",
    "print(f'Scaled y_test shape: {y_test.shape}')"
   ]
  },
  {
   "cell_type": "code",
   "execution_count": 7,
   "metadata": {},
   "outputs": [],
   "source": [
    "rnn = RNN(\n",
    "    x_train=x_train,\n",
    "    y_train=y_train,\n",
    "    units=units\n",
    ").regressor"
   ]
  },
  {
   "cell_type": "code",
   "execution_count": 8,
   "metadata": {},
   "outputs": [
    {
     "name": "stdout",
     "output_type": "stream",
     "text": [
      "4/4 [==============================] - 0s 2ms/step - loss: 0.1480\n"
     ]
    },
    {
     "data": {
      "text/plain": [
       "0.14796727895736694"
      ]
     },
     "execution_count": 8,
     "metadata": {},
     "output_type": "execute_result"
    }
   ],
   "source": [
    "rnn.evaluate(x_test, y_test)"
   ]
  },
  {
   "cell_type": "code",
   "execution_count": 9,
   "metadata": {},
   "outputs": [
    {
     "name": "stdout",
     "output_type": "stream",
     "text": [
      "4/4 [==============================] - 0s 2ms/step\n"
     ]
    }
   ],
   "source": [
    "y_pred = rnn.predict(x_test)\n",
    "inv_yhat = scaler.inverse_transform(y_pred).flatten()\n",
    "inv_y = scaler.inverse_transform(y_test).flatten()\n",
    "# x_t = x_test.reshape((x_test.shape[0], time_step * num_feats))\n",
    "# # invert RV predictions\n",
    "# inv_yhat = np.concatenate((y_pred, x_t), axis=1)\n",
    "# inv_yhat = scaler.inverse_transform(inv_yhat)[:,0]\n",
    "# # invert RV true\n",
    "# inv_y = np.concatenate((y_test, x_t), axis=1)\n",
    "# inv_y = scaler.inverse_transform(inv_y)[:,0]"
   ]
  },
  {
   "cell_type": "code",
   "execution_count": 10,
   "metadata": {},
   "outputs": [
    {
     "data": {
      "text/plain": [
       "array([[0.],\n",
       "       [0.],\n",
       "       [0.],\n",
       "       [0.],\n",
       "       [0.],\n",
       "       [0.],\n",
       "       [0.],\n",
       "       [0.],\n",
       "       [0.],\n",
       "       [0.],\n",
       "       [0.],\n",
       "       [0.],\n",
       "       [0.],\n",
       "       [0.],\n",
       "       [0.],\n",
       "       [0.],\n",
       "       [0.],\n",
       "       [0.],\n",
       "       [0.],\n",
       "       [0.],\n",
       "       [0.],\n",
       "       [0.],\n",
       "       [0.],\n",
       "       [0.],\n",
       "       [0.],\n",
       "       [0.],\n",
       "       [0.],\n",
       "       [0.],\n",
       "       [0.],\n",
       "       [0.],\n",
       "       [0.],\n",
       "       [0.],\n",
       "       [0.],\n",
       "       [0.],\n",
       "       [0.],\n",
       "       [0.],\n",
       "       [0.],\n",
       "       [0.],\n",
       "       [0.],\n",
       "       [0.],\n",
       "       [0.],\n",
       "       [0.],\n",
       "       [0.],\n",
       "       [0.],\n",
       "       [0.],\n",
       "       [0.],\n",
       "       [0.],\n",
       "       [0.],\n",
       "       [0.],\n",
       "       [0.],\n",
       "       [0.],\n",
       "       [0.],\n",
       "       [0.],\n",
       "       [0.],\n",
       "       [0.],\n",
       "       [0.],\n",
       "       [0.],\n",
       "       [0.],\n",
       "       [0.],\n",
       "       [0.],\n",
       "       [0.],\n",
       "       [0.],\n",
       "       [0.],\n",
       "       [0.],\n",
       "       [0.],\n",
       "       [0.],\n",
       "       [0.],\n",
       "       [0.],\n",
       "       [0.],\n",
       "       [0.],\n",
       "       [0.],\n",
       "       [0.],\n",
       "       [0.],\n",
       "       [0.],\n",
       "       [0.],\n",
       "       [0.],\n",
       "       [0.],\n",
       "       [0.],\n",
       "       [0.],\n",
       "       [0.],\n",
       "       [0.],\n",
       "       [0.],\n",
       "       [0.],\n",
       "       [0.],\n",
       "       [0.],\n",
       "       [0.],\n",
       "       [0.],\n",
       "       [0.],\n",
       "       [0.],\n",
       "       [0.],\n",
       "       [0.],\n",
       "       [0.],\n",
       "       [0.],\n",
       "       [0.],\n",
       "       [0.],\n",
       "       [0.],\n",
       "       [0.],\n",
       "       [0.],\n",
       "       [0.],\n",
       "       [0.],\n",
       "       [0.],\n",
       "       [0.],\n",
       "       [0.],\n",
       "       [0.],\n",
       "       [0.],\n",
       "       [0.],\n",
       "       [0.],\n",
       "       [0.],\n",
       "       [0.],\n",
       "       [0.],\n",
       "       [0.],\n",
       "       [0.],\n",
       "       [0.],\n",
       "       [0.],\n",
       "       [0.],\n",
       "       [0.],\n",
       "       [0.],\n",
       "       [0.],\n",
       "       [0.],\n",
       "       [0.],\n",
       "       [0.],\n",
       "       [0.],\n",
       "       [0.],\n",
       "       [0.],\n",
       "       [0.],\n",
       "       [0.],\n",
       "       [0.],\n",
       "       [0.]], dtype=float32)"
      ]
     },
     "execution_count": 10,
     "metadata": {},
     "output_type": "execute_result"
    }
   ],
   "source": [
    "y_pred"
   ]
  },
  {
   "cell_type": "code",
   "execution_count": null,
   "metadata": {},
   "outputs": [],
   "source": [
    "np.sqrt(mean_squared_error(inv_y, inv_yhat))"
   ]
  },
  {
   "cell_type": "code",
   "execution_count": null,
   "metadata": {},
   "outputs": [],
   "source": [
    "results = pd.DataFrame(\n",
    "    data={\n",
    "    'Prediction': inv_yhat,\n",
    "    'Actual': inv_y\n",
    "    },\n",
    "    index=test.index.to_list()[-y_pred.shape[0]:]\n",
    ")"
   ]
  },
  {
   "cell_type": "code",
   "execution_count": null,
   "metadata": {},
   "outputs": [],
   "source": [
    "results"
   ]
  },
  {
   "cell_type": "code",
   "execution_count": null,
   "metadata": {},
   "outputs": [],
   "source": [
    "fig = px.line(results, results.index, ['Prediction', 'Actual'])\n",
    "fig.show()"
   ]
  },
  {
   "cell_type": "code",
   "execution_count": null,
   "metadata": {},
   "outputs": [],
   "source": []
  }
 ],
 "metadata": {
  "kernelspec": {
   "display_name": "crypto-bot",
   "language": "python",
   "name": "python3"
  },
  "language_info": {
   "codemirror_mode": {
    "name": "ipython",
    "version": 3
   },
   "file_extension": ".py",
   "mimetype": "text/x-python",
   "name": "python",
   "nbconvert_exporter": "python",
   "pygments_lexer": "ipython3",
   "version": "3.9.7"
  },
  "orig_nbformat": 4
 },
 "nbformat": 4,
 "nbformat_minor": 2
}
