{
 "cells": [
  {
   "cell_type": "code",
   "execution_count": 2,
   "metadata": {},
   "outputs": [],
   "source": [
    "import pandas as pd\n",
    "import numpy as np\n",
    "import matplotlib.pyplot as plt\n",
    "import plotly.express as px\n",
    "from sklearn.preprocessing import MinMaxScaler\n",
    "from sklearn.metrics import mean_squared_error\n",
    "from models import RNN, get_XY"
   ]
  },
  {
   "attachments": {},
   "cell_type": "markdown",
   "metadata": {},
   "source": [
    "# **1. Setup**"
   ]
  },
  {
   "cell_type": "code",
   "execution_count": 3,
   "metadata": {},
   "outputs": [],
   "source": [
    "df = pd.read_csv('./data/final.csv')\n",
    "df['Month'] = pd.to_datetime(df['Month'], format=\"%Y%m\")\n",
    "df.set_index('Month', inplace=True)"
   ]
  },
  {
   "cell_type": "code",
   "execution_count": 4,
   "metadata": {},
   "outputs": [
    {
     "data": {
      "text/html": [
       "<div>\n",
       "<style scoped>\n",
       "    .dataframe tbody tr th:only-of-type {\n",
       "        vertical-align: middle;\n",
       "    }\n",
       "\n",
       "    .dataframe tbody tr th {\n",
       "        vertical-align: top;\n",
       "    }\n",
       "\n",
       "    .dataframe thead th {\n",
       "        text-align: right;\n",
       "    }\n",
       "</style>\n",
       "<table border=\"1\" class=\"dataframe\">\n",
       "  <thead>\n",
       "    <tr style=\"text-align: right;\">\n",
       "      <th></th>\n",
       "      <th>DP</th>\n",
       "      <th>EP</th>\n",
       "      <th>Mkt-RF</th>\n",
       "      <th>SMB</th>\n",
       "      <th>HML</th>\n",
       "      <th>STR</th>\n",
       "      <th>TB</th>\n",
       "      <th>TS</th>\n",
       "      <th>INF</th>\n",
       "      <th>IP</th>\n",
       "      <th>RV</th>\n",
       "    </tr>\n",
       "    <tr>\n",
       "      <th>Month</th>\n",
       "      <th></th>\n",
       "      <th></th>\n",
       "      <th></th>\n",
       "      <th></th>\n",
       "      <th></th>\n",
       "      <th></th>\n",
       "      <th></th>\n",
       "      <th></th>\n",
       "      <th></th>\n",
       "      <th></th>\n",
       "      <th></th>\n",
       "    </tr>\n",
       "  </thead>\n",
       "  <tbody>\n",
       "    <tr>\n",
       "      <th>1964-07-01</th>\n",
       "      <td>0.035045</td>\n",
       "      <td>0.061789</td>\n",
       "      <td>1.74</td>\n",
       "      <td>0.50</td>\n",
       "      <td>0.75</td>\n",
       "      <td>1.82</td>\n",
       "      <td>3.46</td>\n",
       "      <td>0.73</td>\n",
       "      <td>1.075269</td>\n",
       "      <td>0.657251</td>\n",
       "      <td>-3.880622</td>\n",
       "    </tr>\n",
       "    <tr>\n",
       "      <th>1964-08-01</th>\n",
       "      <td>0.035045</td>\n",
       "      <td>0.061789</td>\n",
       "      <td>-1.44</td>\n",
       "      <td>0.41</td>\n",
       "      <td>0.08</td>\n",
       "      <td>-1.11</td>\n",
       "      <td>3.50</td>\n",
       "      <td>0.71</td>\n",
       "      <td>0.975610</td>\n",
       "      <td>0.652960</td>\n",
       "      <td>-4.338397</td>\n",
       "    </tr>\n",
       "    <tr>\n",
       "      <th>1964-09-01</th>\n",
       "      <td>0.035045</td>\n",
       "      <td>0.061789</td>\n",
       "      <td>2.69</td>\n",
       "      <td>-0.34</td>\n",
       "      <td>1.70</td>\n",
       "      <td>1.25</td>\n",
       "      <td>3.53</td>\n",
       "      <td>0.65</td>\n",
       "      <td>1.171875</td>\n",
       "      <td>0.370552</td>\n",
       "      <td>-4.292086</td>\n",
       "    </tr>\n",
       "    <tr>\n",
       "      <th>1964-10-01</th>\n",
       "      <td>0.035045</td>\n",
       "      <td>0.061789</td>\n",
       "      <td>0.59</td>\n",
       "      <td>0.87</td>\n",
       "      <td>1.17</td>\n",
       "      <td>1.11</td>\n",
       "      <td>3.57</td>\n",
       "      <td>0.59</td>\n",
       "      <td>1.203252</td>\n",
       "      <td>-1.385040</td>\n",
       "      <td>-4.227420</td>\n",
       "    </tr>\n",
       "    <tr>\n",
       "      <th>1964-11-01</th>\n",
       "      <td>0.035045</td>\n",
       "      <td>0.061789</td>\n",
       "      <td>0.00</td>\n",
       "      <td>-0.15</td>\n",
       "      <td>-1.96</td>\n",
       "      <td>-0.68</td>\n",
       "      <td>3.64</td>\n",
       "      <td>0.56</td>\n",
       "      <td>1.397011</td>\n",
       "      <td>3.090023</td>\n",
       "      <td>-3.977059</td>\n",
       "    </tr>\n",
       "  </tbody>\n",
       "</table>\n",
       "</div>"
      ],
      "text/plain": [
       "                  DP        EP  Mkt-RF   SMB   HML   STR    TB    TS  \\\n",
       "Month                                                                  \n",
       "1964-07-01  0.035045  0.061789    1.74  0.50  0.75  1.82  3.46  0.73   \n",
       "1964-08-01  0.035045  0.061789   -1.44  0.41  0.08 -1.11  3.50  0.71   \n",
       "1964-09-01  0.035045  0.061789    2.69 -0.34  1.70  1.25  3.53  0.65   \n",
       "1964-10-01  0.035045  0.061789    0.59  0.87  1.17  1.11  3.57  0.59   \n",
       "1964-11-01  0.035045  0.061789    0.00 -0.15 -1.96 -0.68  3.64  0.56   \n",
       "\n",
       "                 INF        IP        RV  \n",
       "Month                                     \n",
       "1964-07-01  1.075269  0.657251 -3.880622  \n",
       "1964-08-01  0.975610  0.652960 -4.338397  \n",
       "1964-09-01  1.171875  0.370552 -4.292086  \n",
       "1964-10-01  1.203252 -1.385040 -4.227420  \n",
       "1964-11-01  1.397011  3.090023 -3.977059  "
      ]
     },
     "execution_count": 4,
     "metadata": {},
     "output_type": "execute_result"
    }
   ],
   "source": [
    "df.head()"
   ]
  },
  {
   "attachments": {},
   "cell_type": "markdown",
   "metadata": {},
   "source": [
    "## **1.1 Input Variables**"
   ]
  },
  {
   "cell_type": "code",
   "execution_count": 5,
   "metadata": {},
   "outputs": [],
   "source": [
    "# input variables\n",
    "TEST_SIZE = 0.2\n",
    "MAX_UNITS = 9\n",
    "TIME_STEP = 2\n",
    "MODEL_TYPES = ['simple', 'lstm', 'gru']\n",
    "FEATURES = df.columns[:-1].to_list()\n",
    "TARGET = [df.columns[-1]]\n",
    "NUM_FEATS = len(FEATURES)\n",
    "# split training and testing data\n",
    "split = int(df.shape[0] * TEST_SIZE)\n",
    "train = df.iloc[:(df.shape[0] - split), :].copy()\n",
    "test = df.iloc[(df.shape[0] - split):, :].copy()"
   ]
  },
  {
   "attachments": {},
   "cell_type": "markdown",
   "metadata": {},
   "source": [
    "# **2. Data Preparation**"
   ]
  },
  {
   "cell_type": "code",
   "execution_count": 6,
   "metadata": {},
   "outputs": [],
   "source": [
    "scaler = MinMaxScaler(feature_range=(0,1))\n",
    "# get scaled train arrays for RNN\n",
    "# x - (batch_size, time_steps, features)\n",
    "# y - (batch_size, 1)\n",
    "train[FEATURES] = scaler.fit_transform(train[FEATURES])\n",
    "train[TARGET] = scaler.fit_transform(train[TARGET])\n",
    "x_train, y_train = get_XY(\n",
    "    data=train,\n",
    "    xlabs=FEATURES,\n",
    "    ylab=TARGET,\n",
    "    scaler=scaler,\n",
    "    time_steps=TIME_STEP\n",
    ")\n",
    "# get scaled test arrays for RNN\n",
    "# x - (batch_size, time_steps, features)\n",
    "# y - (batch_size, 1)\n",
    "test[FEATURES] = scaler.fit_transform(test[FEATURES])\n",
    "test[TARGET] = scaler.fit_transform(test[TARGET])\n",
    "x_test, y_test = get_XY(\n",
    "    data=test,\n",
    "    xlabs=FEATURES,\n",
    "    ylab=TARGET,\n",
    "    scaler=scaler,\n",
    "    time_steps=TIME_STEP\n",
    ")"
   ]
  },
  {
   "cell_type": "code",
   "execution_count": 7,
   "metadata": {},
   "outputs": [
    {
     "name": "stdout",
     "output_type": "stream",
     "text": [
      "Scaled x_train shape: (559, 2, 10)\n",
      "Scaled y_train shape: (559,)\n",
      "Scaled x_test shape: (138, 2, 10)\n",
      "Scaled y_test shape: (138,)\n"
     ]
    }
   ],
   "source": [
    "print(f'Scaled x_train shape: {x_train.shape}')\n",
    "print(f'Scaled y_train shape: {y_train.shape}')\n",
    "print(f'Scaled x_test shape: {x_test.shape}')\n",
    "print(f'Scaled y_test shape: {y_test.shape}')"
   ]
  },
  {
   "attachments": {},
   "cell_type": "markdown",
   "metadata": {},
   "source": [
    "# **3. LSTM Neural Network**"
   ]
  },
  {
   "attachments": {},
   "cell_type": "markdown",
   "metadata": {},
   "source": [
    "## **3.1 Hidden Units Cross-Validation**"
   ]
  },
  {
   "cell_type": "code",
   "execution_count": 8,
   "metadata": {},
   "outputs": [
    {
     "name": "stdout",
     "output_type": "stream",
     "text": [
      "5/5 [==============================] - 0s 2ms/step - loss: 0.0266\n",
      "5/5 [==============================] - 0s 2ms/step - loss: 0.0370\n",
      "5/5 [==============================] - 0s 2ms/step - loss: 0.0336\n",
      "5/5 [==============================] - 0s 2ms/step - loss: 0.1557\n",
      "5/5 [==============================] - 0s 1ms/step - loss: 0.0244\n",
      "5/5 [==============================] - 0s 2ms/step - loss: 0.0315\n",
      "5/5 [==============================] - 0s 1ms/step - loss: 0.0363\n",
      "5/5 [==============================] - 0s 2ms/step - loss: 0.0535\n",
      "5/5 [==============================] - 1s 2ms/step - loss: 0.1557\n"
     ]
    }
   ],
   "source": [
    "results_lstm = {\n",
    "    'model': [],\n",
    "    'hidden units': [],\n",
    "    'MSE': []\n",
    "}\n",
    "for i in range(1, MAX_UNITS + 1):\n",
    "    lstm = RNN(\n",
    "        x_train=x_train,\n",
    "        y_train=y_train,\n",
    "        units=i,\n",
    "        type_=MODEL_TYPES[1]\n",
    "    ).regressor\n",
    "    mse = lstm.evaluate(x_test, y_test)\n",
    "    results_lstm['model'].append(MODEL_TYPES[1])\n",
    "    results_lstm['hidden units'].append(i)\n",
    "    results_lstm['MSE'].append(mse)"
   ]
  },
  {
   "cell_type": "code",
   "execution_count": 9,
   "metadata": {},
   "outputs": [],
   "source": [
    "results_lstm = pd.DataFrame.from_dict(results_lstm)\n",
    "lstm_units = results_lstm.loc[results_lstm.MSE == results_lstm.MSE.min()]['hidden units'].values[0]"
   ]
  },
  {
   "attachments": {},
   "cell_type": "markdown",
   "metadata": {},
   "source": [
    "## **3.2 LSTM Training & Prediction**"
   ]
  },
  {
   "cell_type": "code",
   "execution_count": 10,
   "metadata": {},
   "outputs": [
    {
     "name": "stdout",
     "output_type": "stream",
     "text": [
      "5/5 [==============================] - 0s 2ms/step - loss: 0.0457\n"
     ]
    }
   ],
   "source": [
    "rnn_lstm = RNN(\n",
    "    x_train=x_train,\n",
    "    y_train=y_train,\n",
    "    units=lstm_units,\n",
    "    type_=MODEL_TYPES[1]\n",
    ").regressor\n",
    "lstm_mse = rnn_lstm.evaluate(x_test, y_test)"
   ]
  },
  {
   "cell_type": "code",
   "execution_count": 11,
   "metadata": {},
   "outputs": [
    {
     "name": "stdout",
     "output_type": "stream",
     "text": [
      "LSTM Neural Network: \n",
      "Optimal # of Hidden Units: 5LSTM MSE: 0.045741524547338486\n"
     ]
    }
   ],
   "source": [
    "print(f'LSTM Neural Network: \\n' +\n",
    "        f'Optimal # of Hidden Units: {lstm_units}\\n' +\n",
    "            f'LSTM MSE: {lstm_mse}')"
   ]
  },
  {
   "attachments": {},
   "cell_type": "markdown",
   "metadata": {},
   "source": [
    "## Ignore"
   ]
  },
  {
   "cell_type": "code",
   "execution_count": 12,
   "metadata": {},
   "outputs": [],
   "source": [
    "# y_pred = rnn.predict(x_test)\n",
    "# # inv_yhat = scaler.inverse_transform(y_pred).flatten()\n",
    "# # inv_y = scaler.inverse_transform(y_test).flatten()\n",
    "# x_t = x_test.reshape((x_test.shape[0], 2 * num_feats))\n",
    "# # invert RV predictions\n",
    "# inv_yhat = np.concatenate((y_pred, x_t), axis=1)\n",
    "# inv_yhat = scaler.inverse_transform(inv_yhat)[:,0]\n",
    "# # invert RV true\n",
    "# y_test = y_test.reshape((len(y_test), 1))\n",
    "# inv_y = np.concatenate((y_test, x_t), axis=1)\n",
    "# inv_y = scaler.inverse_transform(inv_y)[:,0]"
   ]
  },
  {
   "cell_type": "code",
   "execution_count": 13,
   "metadata": {},
   "outputs": [],
   "source": [
    "# np.sqrt(mean_squared_error(inv_y, inv_yhat))"
   ]
  },
  {
   "cell_type": "code",
   "execution_count": 14,
   "metadata": {},
   "outputs": [],
   "source": [
    "# results = pd.DataFrame(\n",
    "#     data={\n",
    "#     'Prediction': y_pred.flatten(),\n",
    "#     'Actual': y_test.flatten()\n",
    "#     },\n",
    "#     index=test.index.to_list()[-y_pred.shape[0]:]\n",
    "# )"
   ]
  },
  {
   "cell_type": "code",
   "execution_count": 15,
   "metadata": {},
   "outputs": [],
   "source": [
    "# fig = px.line(results, results.index, ['Prediction', 'Actual'])\n",
    "# fig.show()"
   ]
  },
  {
   "attachments": {},
   "cell_type": "markdown",
   "metadata": {},
   "source": [
    "# **4. Simple RNN**"
   ]
  },
  {
   "attachments": {},
   "cell_type": "markdown",
   "metadata": {},
   "source": [
    "## **4.1 Hidden Unit Cross-Validation**"
   ]
  },
  {
   "cell_type": "code",
   "execution_count": 16,
   "metadata": {},
   "outputs": [
    {
     "name": "stdout",
     "output_type": "stream",
     "text": [
      "5/5 [==============================] - 0s 2ms/step - loss: 0.0283\n",
      "5/5 [==============================] - 0s 2ms/step - loss: 0.1557\n",
      "5/5 [==============================] - 0s 1ms/step - loss: 0.1557\n",
      "5/5 [==============================] - 0s 2ms/step - loss: 0.0259\n",
      "5/5 [==============================] - 0s 1ms/step - loss: 0.0446\n",
      "5/5 [==============================] - 0s 2ms/step - loss: 0.0380\n",
      "5/5 [==============================] - 1s 1ms/step - loss: 0.1557\n",
      "5/5 [==============================] - 0s 2ms/step - loss: 0.0361\n",
      "5/5 [==============================] - 0s 2ms/step - loss: 0.1557\n"
     ]
    }
   ],
   "source": [
    "results_simple = {\n",
    "    'model': [],\n",
    "    'hidden units': [],\n",
    "    'MSE': []\n",
    "}\n",
    "for i in range(1, MAX_UNITS + 1):\n",
    "    simple = RNN(\n",
    "        x_train=x_train,\n",
    "        y_train=y_train,\n",
    "        units=i,\n",
    "        type_=MODEL_TYPES[0]\n",
    "    ).regressor\n",
    "    mse = simple.evaluate(x_test, y_test)\n",
    "    results_simple['model'].append(MODEL_TYPES[0])\n",
    "    results_simple['hidden units'].append(i)\n",
    "    results_simple['MSE'].append(mse)"
   ]
  },
  {
   "cell_type": "code",
   "execution_count": 17,
   "metadata": {},
   "outputs": [],
   "source": [
    "results_simple = pd.DataFrame.from_dict(results_simple)\n",
    "simple_units = results_simple.loc[results_simple.MSE == results_simple.MSE.min()]['hidden units'].values[0]"
   ]
  },
  {
   "attachments": {},
   "cell_type": "markdown",
   "metadata": {},
   "source": [
    "## **4.2 Simple RNN Prediction**"
   ]
  },
  {
   "cell_type": "code",
   "execution_count": 18,
   "metadata": {},
   "outputs": [
    {
     "name": "stdout",
     "output_type": "stream",
     "text": [
      "5/5 [==============================] - 0s 1ms/step - loss: 0.0383\n"
     ]
    }
   ],
   "source": [
    "rnn_simple = RNN(\n",
    "    x_train=x_train,\n",
    "    y_train=y_train,\n",
    "    units=simple_units,\n",
    "    type_=MODEL_TYPES[0]\n",
    ").regressor\n",
    "simple_mse = rnn_simple.evaluate(x_test, y_test)"
   ]
  },
  {
   "cell_type": "code",
   "execution_count": 19,
   "metadata": {},
   "outputs": [
    {
     "name": "stdout",
     "output_type": "stream",
     "text": [
      "Simple Recurrent Neural Network: \n",
      "Optimal # of Hidden Units: 4\n",
      "Simple RNN MSE: 0.0382847897708416\n"
     ]
    }
   ],
   "source": [
    "print(f'Simple Recurrent Neural Network: \\n' +\n",
    "        f'Optimal # of Hidden Units: {simple_units}\\n' +\n",
    "            f'Simple RNN MSE: {simple_mse}')"
   ]
  },
  {
   "attachments": {},
   "cell_type": "markdown",
   "metadata": {},
   "source": [
    "# **5. Gated Recurrent Unit**"
   ]
  },
  {
   "attachments": {},
   "cell_type": "markdown",
   "metadata": {},
   "source": [
    "## **5.1 Hidden Unit Cross-Validation**"
   ]
  },
  {
   "cell_type": "code",
   "execution_count": 20,
   "metadata": {},
   "outputs": [
    {
     "name": "stdout",
     "output_type": "stream",
     "text": [
      "5/5 [==============================] - 0s 3ms/step - loss: 0.0442\n",
      "5/5 [==============================] - 0s 2ms/step - loss: 0.1557\n",
      "5/5 [==============================] - 0s 2ms/step - loss: 0.1557\n",
      "5/5 [==============================] - 0s 2ms/step - loss: 0.0310\n",
      "5/5 [==============================] - 0s 2ms/step - loss: 0.0345\n",
      "5/5 [==============================] - 0s 2ms/step - loss: 0.0262\n",
      "5/5 [==============================] - 0s 2ms/step - loss: 0.0573\n",
      "5/5 [==============================] - 0s 2ms/step - loss: 0.0561\n",
      "5/5 [==============================] - 0s 1ms/step - loss: 0.0304\n"
     ]
    }
   ],
   "source": [
    "results_gru = {\n",
    "    'model': [],\n",
    "    'hidden units': [],\n",
    "    'MSE': []\n",
    "}\n",
    "for i in range(1, MAX_UNITS + 1):\n",
    "    gru = RNN(\n",
    "        x_train=x_train,\n",
    "        y_train=y_train,\n",
    "        units=i,\n",
    "        type_=MODEL_TYPES[2]\n",
    "    ).regressor\n",
    "    mse = gru.evaluate(x_test, y_test)\n",
    "    results_gru['model'].append(MODEL_TYPES[2])\n",
    "    results_gru['hidden units'].append(i)\n",
    "    results_gru['MSE'].append(mse)"
   ]
  },
  {
   "cell_type": "code",
   "execution_count": 21,
   "metadata": {},
   "outputs": [],
   "source": [
    "results_gru = pd.DataFrame.from_dict(results_gru)\n",
    "gru_units = results_gru.loc[results_gru.MSE == results_gru.MSE.min()]['hidden units'].values[0]"
   ]
  },
  {
   "attachments": {},
   "cell_type": "markdown",
   "metadata": {},
   "source": [
    "## **5.2 GRU Prediction**"
   ]
  },
  {
   "cell_type": "code",
   "execution_count": 22,
   "metadata": {},
   "outputs": [
    {
     "name": "stdout",
     "output_type": "stream",
     "text": [
      "5/5 [==============================] - 0s 2ms/step - loss: 0.0415\n"
     ]
    }
   ],
   "source": [
    "rnn_gru = RNN(\n",
    "    x_train=x_train,\n",
    "    y_train=y_train,\n",
    "    units=lstm_units,\n",
    "    type_=MODEL_TYPES[2]\n",
    ").regressor\n",
    "gru_mse = rnn_gru.evaluate(x_test, y_test)"
   ]
  },
  {
   "cell_type": "code",
   "execution_count": 23,
   "metadata": {},
   "outputs": [
    {
     "name": "stdout",
     "output_type": "stream",
     "text": [
      "GRU Neural Network: \n",
      "Optimal # of Hidden Units: 5\n",
      "GRU MSE: 0.045741524547338486\n"
     ]
    }
   ],
   "source": [
    "print(f'GRU Neural Network: \\n' +\n",
    "        f'Optimal # of Hidden Units: {lstm_units}\\n' +\n",
    "            f'GRU MSE: {lstm_mse}')"
   ]
  },
  {
   "cell_type": "code",
   "execution_count": null,
   "metadata": {},
   "outputs": [],
   "source": [
    "from sklearn.linear_model import Lasso\n",
    "from sklearn.pipeline import Pipeline\n",
    "from sklearn.model_selection import GridSearchCV"
   ]
  }
 ],
 "metadata": {
  "kernelspec": {
   "display_name": "crypto-bot",
   "language": "python",
   "name": "python3"
  },
  "language_info": {
   "codemirror_mode": {
    "name": "ipython",
    "version": 3
   },
   "file_extension": ".py",
   "mimetype": "text/x-python",
   "name": "python",
   "nbconvert_exporter": "python",
   "pygments_lexer": "ipython3",
   "version": "3.9.7"
  },
  "orig_nbformat": 4
 },
 "nbformat": 4,
 "nbformat_minor": 2
}
